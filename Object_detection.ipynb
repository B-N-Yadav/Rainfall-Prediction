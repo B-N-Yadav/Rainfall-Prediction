{
  "nbformat": 4,
  "nbformat_minor": 0,
  "metadata": {
    "colab": {
      "provenance": [],
      "authorship_tag": "ABX9TyOOGBPzyredtYduy+1E3Bwz",
      "include_colab_link": true
    },
    "kernelspec": {
      "name": "ir",
      "display_name": "R"
    },
    "language_info": {
      "name": "R"
    }
  },
  "cells": [
    {
      "cell_type": "markdown",
      "metadata": {
        "id": "view-in-github",
        "colab_type": "text"
      },
      "source": [
        "<a href=\"https://colab.research.google.com/github/B-N-Yadav/Rainfall-Prediction/blob/main/Object_detection.ipynb\" target=\"_parent\"><img src=\"https://colab.research.google.com/assets/colab-badge.svg\" alt=\"Open In Colab\"/></a>"
      ]
    },
    {
      "cell_type": "code",
      "source": [
        "install.packages(\"dplyr\")"
      ],
      "metadata": {
        "colab": {
          "base_uri": "https://localhost:8080/"
        },
        "id": "w74DJaGQn5eS",
        "outputId": "78825cad-b33e-40da-d09e-b360900415e4"
      },
      "execution_count": null,
      "outputs": [
        {
          "output_type": "stream",
          "name": "stderr",
          "text": [
            "Installing package into ‘/usr/local/lib/R/site-library’\n",
            "(as ‘lib’ is unspecified)\n",
            "\n"
          ]
        }
      ]
    },
    {
      "cell_type": "code",
      "source": [
        "install.packages(\"imager\")"
      ],
      "metadata": {
        "colab": {
          "base_uri": "https://localhost:8080/"
        },
        "id": "PhT6kuPCmerz",
        "outputId": "023d8c48-1056-49eb-a707-6d2c040452a0"
      },
      "execution_count": null,
      "outputs": [
        {
          "output_type": "stream",
          "name": "stderr",
          "text": [
            "Installing package into ‘/usr/local/lib/R/site-library’\n",
            "(as ‘lib’ is unspecified)\n",
            "\n",
            "also installing the dependencies ‘bmp’, ‘tiff’, ‘png’, ‘jpeg’, ‘readbitmap’, ‘downloader’, ‘igraph’\n",
            "\n",
            "\n"
          ]
        }
      ]
    },
    {
      "cell_type": "code",
      "source": [
        "install.packages(\"magrittr\")"
      ],
      "metadata": {
        "colab": {
          "base_uri": "https://localhost:8080/"
        },
        "id": "Jghpo6ktkeZC",
        "outputId": "10e6d706-cead-4e70-a22c-59a7751c5587"
      },
      "execution_count": null,
      "outputs": [
        {
          "output_type": "stream",
          "name": "stderr",
          "text": [
            "Installing package into ‘/usr/local/lib/R/site-library’\n",
            "(as ‘lib’ is unspecified)\n",
            "\n"
          ]
        }
      ]
    },
    {
      "cell_type": "code",
      "execution_count": null,
      "metadata": {
        "colab": {
          "base_uri": "https://localhost:8080/"
        },
        "id": "5CUUGu9xWJpQ",
        "outputId": "4e938e0f-730a-49c8-d2b1-72bc6d764d3f"
      },
      "outputs": [
        {
          "output_type": "stream",
          "name": "stderr",
          "text": [
            "Loading required package: magrittr\n",
            "\n",
            "\n",
            "Attaching package: ‘imager’\n",
            "\n",
            "\n",
            "The following object is masked from ‘package:magrittr’:\n",
            "\n",
            "    add\n",
            "\n",
            "\n",
            "The following objects are masked from ‘package:stats’:\n",
            "\n",
            "    convolve, spectrum\n",
            "\n",
            "\n",
            "The following object is masked from ‘package:graphics’:\n",
            "\n",
            "    frame\n",
            "\n",
            "\n",
            "The following object is masked from ‘package:base’:\n",
            "\n",
            "    save.image\n",
            "\n",
            "\n",
            "\n",
            "Attaching package: ‘dplyr’\n",
            "\n",
            "\n",
            "The following object is masked from ‘package:imager’:\n",
            "\n",
            "    where\n",
            "\n",
            "\n",
            "The following objects are masked from ‘package:stats’:\n",
            "\n",
            "    filter, lag\n",
            "\n",
            "\n",
            "The following objects are masked from ‘package:base’:\n",
            "\n",
            "    intersect, setdiff, setequal, union\n",
            "\n",
            "\n"
          ]
        },
        {
          "output_type": "stream",
          "name": "stdout",
          "text": [
            " [1] \"/content/sample_data/images/Pias--492-_jpg.rf.0982b7ed2a5a6be479d224f989732c6f.jpg\"\n",
            " [2] \"/content/sample_data/images/Pias--493-_jpg.rf.335e3b925cf24040c84d4753ce537213.jpg\"\n",
            " [3] \"/content/sample_data/images/Pias--494-_jpg.rf.b1b3b5e55802088f2c934567fc82013d.jpg\"\n",
            " [4] \"/content/sample_data/images/Pias--495-_jpg.rf.a07aee5990a9e909f2951335239fe075.jpg\"\n",
            " [5] \"/content/sample_data/images/Pias--496-_jpg.rf.7b68af90a0ae2741780592e895b2a45b.jpg\"\n",
            " [6] \"/content/sample_data/images/Pias--497-_jpg.rf.40249edba8041d6d5a9b3388a15fb29c.jpg\"\n",
            " [7] \"/content/sample_data/images/Pias--498-_jpg.rf.274b0eb8fa48e97d4d40ee29a39e7ca7.jpg\"\n",
            " [8] \"/content/sample_data/images/Pias--499-_jpg.rf.99a617172f1b7ca73a81b9544e6566d1.jpg\"\n",
            " [9] \"/content/sample_data/images/Pias--5-_jpg.rf.fa65ec5d5a6eefc2b55d7a2908a4b7d3.jpg\"  \n",
            "[10] \"/content/sample_data/images/Pias--50-_jpg.rf.82c7957c66dde00f9a7f6b4d666cfa3d.jpg\" \n",
            "[11] \"/content/sample_data/images/Pias--500-_jpg.rf.8159d8f091132889f6ae5ef834ffb81b.jpg\"\n",
            "[12] \"/content/sample_data/images/Pias--501-_jpg.rf.428fe414c015d7d9647f58de7d468537.jpg\"\n",
            "[13] \"/content/sample_data/images/Pias--502-_jpg.rf.fda2db495cef862e2087bfae7c3619dd.jpg\"\n",
            "[14] \"/content/sample_data/images/Pias--503-_jpg.rf.6b720ee7a055b6c944a3dc9da1bf8097.jpg\"\n",
            "[15] \"/content/sample_data/images/Pias--504-_jpg.rf.4049832e129b278c6ebf5f5c3114770b.jpg\"\n",
            "[16] \"/content/sample_data/images/Pias--505-_jpg.rf.22c56716d3ea83e6fdb0944793212a0e.jpg\"\n",
            "[17] \"/content/sample_data/images/Pias--506-_jpg.rf.b3160f32748debfad5056485a49cd29a.jpg\"\n",
            "[18] \"/content/sample_data/images/Pias--507-_jpg.rf.6beb1ccf8b5e0ccb210394c6cc231a73.jpg\"\n",
            "[19] \"/content/sample_data/images/Pias--508-_jpg.rf.30d81577b1a56dbbc6e71e4231aec0a5.jpg\"\n",
            "[20] \"/content/sample_data/images/Pias--509-_jpg.rf.4906a15d7930f5a46a391f3f55f24277.jpg\"\n",
            "[21] \"/content/sample_data/images/Pias--51-_jpg.rf.fe0aedcd0721cc680c50ebb55917fa0e.jpg\" \n",
            "[22] \"/content/sample_data/images/Pias--510-_jpg.rf.ef7943eef4c5f6e362a07786df87181a.jpg\"\n",
            "[23] \"/content/sample_data/images/Pias--511-_jpg.rf.c816fbb0e75f22dd03729caf7aee6b05.jpg\"\n",
            "[24] \"/content/sample_data/images/Pias--52-_jpg.rf.9e8653d3ae929cf900bf17ada58cd9a3.jpg\" \n",
            "[25] \"/content/sample_data/images/Pias--53-_jpg.rf.3cf3beb96d3e3147a32f9e13133e9ecb.jpg\" \n",
            "[26] \"/content/sample_data/images/Pias--54-_jpg.rf.886673b1da5405981359a587e2c69671.jpg\" \n",
            "[27] \"/content/sample_data/images/Pias--55-_jpg.rf.20eed826bded1c331cb706768ca70ebe.jpg\" \n",
            "[28] \"/content/sample_data/images/Pias--56-_jpg.rf.1612f733e09c9ef1c91696917730847e.jpg\" \n",
            "[29] \"/content/sample_data/images/Pias--57-_jpg.rf.b9c1ac0d305a93cf3542fecce50bc5f9.jpg\" \n",
            "[30] \"/content/sample_data/images/Pias--58-_jpg.rf.1b45822abd28c6787e77ea72fc2690c0.jpg\" \n",
            "[31] \"/content/sample_data/images/Pias--59-_jpg.rf.d408b6cc7c660870a9307ad3b6437fa1.jpg\" \n",
            "[32] \"/content/sample_data/images/Pias--6-_jpg.rf.aaada0e833b3c19cd80cfb178bd87627.jpg\"  \n",
            "[33] \"/content/sample_data/images/Pias--60-_jpg.rf.9e63546bb9a48b0915789acd375162d3.jpg\" \n",
            "[34] \"/content/sample_data/images/Pias--61-_jpg.rf.6dc9fd201edce7a57c060a26eb871c1c.jpg\" \n",
            "[35] \"/content/sample_data/images/Pias--62-_jpg.rf.eaf294dd8f7cb6b023b07b1c41c15871.jpg\" \n",
            "[36] \"/content/sample_data/images/Pias--63-_jpg.rf.2a61f476c3b0ad129da2f5821b493c05.jpg\" \n",
            "[37] \"/content/sample_data/images/Pias--64-_jpg.rf.941e35f1b9256a0856f34ceb41ab09ac.jpg\" \n",
            "[38] \"/content/sample_data/images/Pias--65-_jpg.rf.43fd747447957df2f051c0e8a685c32d.jpg\" \n",
            "[39] \"/content/sample_data/images/Pias--66-_jpg.rf.f735247d807216db04314a784e1010cf.jpg\" \n",
            "[40] \"/content/sample_data/images/Pias--67-_jpg.rf.d8880e6b16e48a2e5effbd256a5b2249.jpg\" \n",
            "[41] \"/content/sample_data/images/Pias--68-_jpg.rf.e3aaae9ec83923bdd6a200c07703cdab.jpg\" \n",
            "[42] \"/content/sample_data/images/Pias--69-_jpg.rf.ed0d8e0f499c15319381b293cac1923d.jpg\" \n",
            "[43] \"/content/sample_data/images/Pias--7-_jpg.rf.ea09402c4e07c6e8f8054e402813ce38.jpg\"  \n",
            "[44] \"/content/sample_data/images/Pias--70-_jpg.rf.85377bc02dea7d5d25b7507dc63f67d6.jpg\" \n",
            "[45] \"/content/sample_data/images/Pias--71-_jpg.rf.b36acff3275b25acc780399a74404bb7.jpg\" \n",
            "[46] \"/content/sample_data/images/Pias--72-_jpg.rf.4e6bdc5664e632820a99bfdc6eb5677c.jpg\" \n",
            "[47] \"/content/sample_data/images/Pias--73-_jpg.rf.5004f1cf4e7478aee65c80324995a18a.jpg\" \n",
            "[48] \"/content/sample_data/images/Pias--74-_jpg.rf.9d1e62fda2b2c9ca9e78efeea7b0b2e2.jpg\" \n",
            "[49] \"/content/sample_data/images/Pias--75-_jpg.rf.995915c64c08589d62dc7c8331b7fb8c.jpg\" \n",
            "[50] \"/content/sample_data/images/Pias--76-_jpg.rf.4232fd1bf6cf0df19e4e387e260c1f27.jpg\" \n",
            "[51] \"/content/sample_data/images/Pias--77-_jpg.rf.89095a9de524fe98276fa35573a3a1c0.jpg\" \n",
            "[52] \"/content/sample_data/images/Pias--78-_jpg.rf.6c6623da34522b2236d3018f1bda43fb.jpg\" \n",
            "[53] \"/content/sample_data/images/Pias--79-_jpg.rf.6147ae76614e5366e3349ceeb031ec9e.jpg\" \n",
            "[54] \"/content/sample_data/images/Pias--8-_jpg.rf.2b0308c8608ff55c6793d83200b00543.jpg\"  \n",
            "[55] \"/content/sample_data/images/Pias--80-_jpg.rf.3b2f4a8ba5adf2352ff296a5c489e323.jpg\" \n",
            "[56] \"/content/sample_data/images/Pias--81-_jpg.rf.079e2b04755dbab690c07d46065b4f49.jpg\" \n",
            "[57] \"/content/sample_data/images/Pias--82-_jpg.rf.c358ad56dc72f3ba418faa4cef92b98c.jpg\" \n",
            "[58] \"/content/sample_data/images/Pias--83-_jpg.rf.0a5e9d8af7f6587bcfac6a5f2e2ce31c.jpg\" \n",
            "[59] \"/content/sample_data/images/Pias--84-_jpg.rf.591f57e3e44413320de2e36f383b19ed.jpg\" \n",
            "[60] \"/content/sample_data/images/Pias--85-_jpg.rf.dfedc9422476018aac4d87295a55833d.jpg\" \n",
            "[61] \"/content/sample_data/images/Pias--86-_jpg.rf.03aa4d5f4bc3340c4debc461625805ef.jpg\" \n",
            "[62] \"/content/sample_data/images/Pias--87-_jpg.rf.422ec23fbe67ac96f90e697baa4dbe9b.jpg\" \n",
            "[63] \"/content/sample_data/images/Pias--88-_jpg.rf.05cc0ff7de08514af8160e30bd8323c0.jpg\" \n",
            "[64] \"/content/sample_data/images/Pias--89-_jpg.rf.5ccd8644c9fd89993da6bf60c47a0242.jpg\" \n",
            "[65] \"/content/sample_data/images/Pias--9-_jpg.rf.9424ed79735184aaa780764416e7a2e3.jpg\"  \n",
            "[66] \"/content/sample_data/images/Pias--90-_jpg.rf.2fe2e17f701a4feaa550a2fab3ef4a30.jpg\" \n",
            "[67] \"/content/sample_data/images/Pias--91-_jpg.rf.2a4e5ad344e7cb262a5f74aaeef264cc.jpg\" \n",
            "[68] \"/content/sample_data/images/Pias--92-_jpg.rf.a8ac1fcaa98ab6b1b52167e13ecb6a5e.jpg\" \n",
            "[69] \"/content/sample_data/images/Pias--93-_jpg.rf.3e366c369c058a18d6f2f3b7baf614c9.jpg\" \n",
            "[70] \"/content/sample_data/images/Pias--94-_jpg.rf.7309b5b7aa19f22c86a5de222a7ff0f0.jpg\" \n",
            "[71] \"/content/sample_data/images/Pias--95-_jpg.rf.221ecd2fe2eac20a6b764c9f6e0a479f.jpg\" \n",
            "[72] \"/content/sample_data/images/Pias--96-_jpg.rf.406346e6bd3f75eb78cfee57168f2808.jpg\" \n",
            "[73] \"/content/sample_data/images/Pias--97-_jpg.rf.264920f4f0f06c3eca4452b5498e0e9b.jpg\" \n",
            "[74] \"/content/sample_data/images/Pias--98-_jpg.rf.8809113c695444646d47c7b259b56303.jpg\" \n",
            "[75] \"/content/sample_data/images/Pias--99-_jpg.rf.f369d200ffd5649e1c8aadf4141be7a0.jpg\" \n",
            "Processed Pias--492-_jpg.rf.0982b7ed2a5a6be479d224f989732c6f.jpg - Objects detected: 943 \n",
            "Processed Pias--493-_jpg.rf.335e3b925cf24040c84d4753ce537213.jpg - Objects detected: 925 \n",
            "Processed Pias--494-_jpg.rf.b1b3b5e55802088f2c934567fc82013d.jpg - Objects detected: 707 \n",
            "Processed Pias--495-_jpg.rf.a07aee5990a9e909f2951335239fe075.jpg - Objects detected: 912 \n",
            "Processed Pias--496-_jpg.rf.7b68af90a0ae2741780592e895b2a45b.jpg - Objects detected: 731 \n",
            "Processed Pias--497-_jpg.rf.40249edba8041d6d5a9b3388a15fb29c.jpg - Objects detected: 515 \n",
            "Processed Pias--498-_jpg.rf.274b0eb8fa48e97d4d40ee29a39e7ca7.jpg - Objects detected: 624 \n",
            "Processed Pias--499-_jpg.rf.99a617172f1b7ca73a81b9544e6566d1.jpg - Objects detected: 582 \n",
            "Processed Pias--5-_jpg.rf.fa65ec5d5a6eefc2b55d7a2908a4b7d3.jpg - Objects detected: 653 \n",
            "Processed Pias--50-_jpg.rf.82c7957c66dde00f9a7f6b4d666cfa3d.jpg - Objects detected: 447 \n",
            "Processed Pias--500-_jpg.rf.8159d8f091132889f6ae5ef834ffb81b.jpg - Objects detected: 555 \n",
            "Processed Pias--501-_jpg.rf.428fe414c015d7d9647f58de7d468537.jpg - Objects detected: 827 \n",
            "Processed Pias--502-_jpg.rf.fda2db495cef862e2087bfae7c3619dd.jpg - Objects detected: 673 \n",
            "Processed Pias--503-_jpg.rf.6b720ee7a055b6c944a3dc9da1bf8097.jpg - Objects detected: 893 \n",
            "Processed Pias--504-_jpg.rf.4049832e129b278c6ebf5f5c3114770b.jpg - Objects detected: 877 \n",
            "Processed Pias--505-_jpg.rf.22c56716d3ea83e6fdb0944793212a0e.jpg - Objects detected: 1239 \n",
            "Processed Pias--506-_jpg.rf.b3160f32748debfad5056485a49cd29a.jpg - Objects detected: 1140 \n",
            "Processed Pias--507-_jpg.rf.6beb1ccf8b5e0ccb210394c6cc231a73.jpg - Objects detected: 915 \n",
            "Processed Pias--508-_jpg.rf.30d81577b1a56dbbc6e71e4231aec0a5.jpg - Objects detected: 741 \n",
            "Processed Pias--509-_jpg.rf.4906a15d7930f5a46a391f3f55f24277.jpg - Objects detected: 917 \n",
            "Processed Pias--51-_jpg.rf.fe0aedcd0721cc680c50ebb55917fa0e.jpg - Objects detected: 522 \n",
            "Processed Pias--510-_jpg.rf.ef7943eef4c5f6e362a07786df87181a.jpg - Objects detected: 829 \n",
            "Processed Pias--511-_jpg.rf.c816fbb0e75f22dd03729caf7aee6b05.jpg - Objects detected: 535 \n",
            "Processed Pias--52-_jpg.rf.9e8653d3ae929cf900bf17ada58cd9a3.jpg - Objects detected: 599 \n",
            "Processed Pias--53-_jpg.rf.3cf3beb96d3e3147a32f9e13133e9ecb.jpg - Objects detected: 520 \n",
            "Processed Pias--54-_jpg.rf.886673b1da5405981359a587e2c69671.jpg - Objects detected: 792 \n",
            "Processed Pias--55-_jpg.rf.20eed826bded1c331cb706768ca70ebe.jpg - Objects detected: 729 \n",
            "Processed Pias--56-_jpg.rf.1612f733e09c9ef1c91696917730847e.jpg - Objects detected: 715 \n",
            "Processed Pias--57-_jpg.rf.b9c1ac0d305a93cf3542fecce50bc5f9.jpg - Objects detected: 982 \n",
            "Processed Pias--58-_jpg.rf.1b45822abd28c6787e77ea72fc2690c0.jpg - Objects detected: 712 \n",
            "Processed Pias--59-_jpg.rf.d408b6cc7c660870a9307ad3b6437fa1.jpg - Objects detected: 639 \n",
            "Processed Pias--6-_jpg.rf.aaada0e833b3c19cd80cfb178bd87627.jpg - Objects detected: 702 \n",
            "Processed Pias--60-_jpg.rf.9e63546bb9a48b0915789acd375162d3.jpg - Objects detected: 753 \n",
            "Processed Pias--61-_jpg.rf.6dc9fd201edce7a57c060a26eb871c1c.jpg - Objects detected: 785 \n",
            "Processed Pias--62-_jpg.rf.eaf294dd8f7cb6b023b07b1c41c15871.jpg - Objects detected: 642 \n",
            "Processed Pias--63-_jpg.rf.2a61f476c3b0ad129da2f5821b493c05.jpg - Objects detected: 655 \n",
            "Processed Pias--64-_jpg.rf.941e35f1b9256a0856f34ceb41ab09ac.jpg - Objects detected: 704 \n",
            "Processed Pias--65-_jpg.rf.43fd747447957df2f051c0e8a685c32d.jpg - Objects detected: 627 \n",
            "Processed Pias--66-_jpg.rf.f735247d807216db04314a784e1010cf.jpg - Objects detected: 517 \n",
            "Processed Pias--67-_jpg.rf.d8880e6b16e48a2e5effbd256a5b2249.jpg - Objects detected: 389 \n",
            "Processed Pias--68-_jpg.rf.e3aaae9ec83923bdd6a200c07703cdab.jpg - Objects detected: 406 \n",
            "Processed Pias--69-_jpg.rf.ed0d8e0f499c15319381b293cac1923d.jpg - Objects detected: 380 \n",
            "Processed Pias--7-_jpg.rf.ea09402c4e07c6e8f8054e402813ce38.jpg - Objects detected: 1080 \n",
            "Processed Pias--70-_jpg.rf.85377bc02dea7d5d25b7507dc63f67d6.jpg - Objects detected: 469 \n",
            "Processed Pias--71-_jpg.rf.b36acff3275b25acc780399a74404bb7.jpg - Objects detected: 454 \n",
            "Processed Pias--72-_jpg.rf.4e6bdc5664e632820a99bfdc6eb5677c.jpg - Objects detected: 476 \n",
            "Processed Pias--73-_jpg.rf.5004f1cf4e7478aee65c80324995a18a.jpg - Objects detected: 262 \n",
            "Processed Pias--74-_jpg.rf.9d1e62fda2b2c9ca9e78efeea7b0b2e2.jpg - Objects detected: 543 \n",
            "Processed Pias--75-_jpg.rf.995915c64c08589d62dc7c8331b7fb8c.jpg - Objects detected: 549 \n",
            "Processed Pias--76-_jpg.rf.4232fd1bf6cf0df19e4e387e260c1f27.jpg - Objects detected: 522 \n",
            "Processed Pias--77-_jpg.rf.89095a9de524fe98276fa35573a3a1c0.jpg - Objects detected: 365 \n",
            "Processed Pias--78-_jpg.rf.6c6623da34522b2236d3018f1bda43fb.jpg - Objects detected: 265 \n",
            "Processed Pias--79-_jpg.rf.6147ae76614e5366e3349ceeb031ec9e.jpg - Objects detected: 579 \n",
            "Processed Pias--8-_jpg.rf.2b0308c8608ff55c6793d83200b00543.jpg - Objects detected: 1006 \n",
            "Processed Pias--80-_jpg.rf.3b2f4a8ba5adf2352ff296a5c489e323.jpg - Objects detected: 718 \n",
            "Processed Pias--81-_jpg.rf.079e2b04755dbab690c07d46065b4f49.jpg - Objects detected: 667 \n",
            "Processed Pias--82-_jpg.rf.c358ad56dc72f3ba418faa4cef92b98c.jpg - Objects detected: 692 \n",
            "Processed Pias--83-_jpg.rf.0a5e9d8af7f6587bcfac6a5f2e2ce31c.jpg - Objects detected: 546 \n",
            "Processed Pias--84-_jpg.rf.591f57e3e44413320de2e36f383b19ed.jpg - Objects detected: 468 \n",
            "Processed Pias--85-_jpg.rf.dfedc9422476018aac4d87295a55833d.jpg - Objects detected: 646 \n",
            "Processed Pias--86-_jpg.rf.03aa4d5f4bc3340c4debc461625805ef.jpg - Objects detected: 744 \n",
            "Processed Pias--87-_jpg.rf.422ec23fbe67ac96f90e697baa4dbe9b.jpg - Objects detected: 635 \n",
            "Processed Pias--88-_jpg.rf.05cc0ff7de08514af8160e30bd8323c0.jpg - Objects detected: 495 \n",
            "Processed Pias--89-_jpg.rf.5ccd8644c9fd89993da6bf60c47a0242.jpg - Objects detected: 565 \n",
            "Processed Pias--9-_jpg.rf.9424ed79735184aaa780764416e7a2e3.jpg - Objects detected: 1181 \n",
            "Processed Pias--90-_jpg.rf.2fe2e17f701a4feaa550a2fab3ef4a30.jpg - Objects detected: 743 \n",
            "Processed Pias--91-_jpg.rf.2a4e5ad344e7cb262a5f74aaeef264cc.jpg - Objects detected: 752 \n",
            "Processed Pias--92-_jpg.rf.a8ac1fcaa98ab6b1b52167e13ecb6a5e.jpg - Objects detected: 689 \n",
            "Processed Pias--93-_jpg.rf.3e366c369c058a18d6f2f3b7baf614c9.jpg - Objects detected: 750 \n",
            "Processed Pias--94-_jpg.rf.7309b5b7aa19f22c86a5de222a7ff0f0.jpg - Objects detected: 616 \n",
            "Processed Pias--95-_jpg.rf.221ecd2fe2eac20a6b764c9f6e0a479f.jpg - Objects detected: 577 \n",
            "Processed Pias--96-_jpg.rf.406346e6bd3f75eb78cfee57168f2808.jpg - Objects detected: 600 \n",
            "Processed Pias--97-_jpg.rf.264920f4f0f06c3eca4452b5498e0e9b.jpg - Objects detected: 635 \n",
            "Processed Pias--98-_jpg.rf.8809113c695444646d47c7b259b56303.jpg - Objects detected: 733 \n",
            "Processed Pias--99-_jpg.rf.f369d200ffd5649e1c8aadf4141be7a0.jpg - Objects detected: 722 \n",
            "Detection results saved to traffic_object_detection_results.csv\n"
          ]
        }
      ],
      "source": [
        "library(imager)\n",
        "library(magrittr)\n",
        "library(dplyr)\n",
        "\n",
        "# Set your image folder\n",
        "img_folder <- \"/content/sample_data/images\" # Update to your dataset path\n",
        "\n",
        "img_files <- list.files(img_folder, pattern = \"\\\\.(jpg|jpeg)$\", full.names = TRUE, ignore.case = TRUE)\n",
        "print(img_files)\n",
        "\n",
        "if (length(img_files) == 0) {\n",
        "  cat(\"No JPG or JPEG images found in folder:\", img_folder, \"\\n\")\n",
        "}\n",
        "\n",
        "# Create a data frame to record object counts\n",
        "results <- data.frame(\n",
        "  image = character(),\n",
        "  object_count = integer(),\n",
        "  stringsAsFactors = FALSE\n",
        ")\n",
        "\n",
        "# Simple object detection function (using thresholding)\n",
        "detect_objects <- function(img_path) {\n",
        "  img <- load.image(img_path) %>% grayscale()\n",
        "  # Apply threshold to create binary image\n",
        "  img_bin <- img > 0.5\n",
        "  # Label connected components\n",
        "  labeled <- label(img_bin)\n",
        "  # Count unique objects (excluding background)\n",
        "  n_objects <- max(labeled)\n",
        "  return(n_objects)\n",
        "}\n",
        "\n",
        "# Process images and record results\n",
        "for (img_path in img_files) {\n",
        "  count <- detect_objects(img_path)\n",
        "  results <- rbind(\n",
        "    results,\n",
        "    data.frame(image = basename(img_path), object_count = count)\n",
        "  )\n",
        "  cat(\"Processed\", basename(img_path), \"- Objects detected:\", count, \"\\n\")\n",
        "}\n",
        "\n",
        "# Save results to CSV\n",
        "write.csv(results, \"traffic_object_detection_results.csv\", row.names = FALSE)\n",
        "cat(\"Detection results saved to traffic_object_detection_results.csv\\n\")"
      ]
    }
  ]
}